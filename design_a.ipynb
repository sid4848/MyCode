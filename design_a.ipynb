{
 "cells": [
  {
   "cell_type": "code",
   "execution_count": 1,
   "metadata": {},
   "outputs": [
    {
     "data": {
      "application/vnd.jupyter.widget-view+json": {
       "model_id": "b66f4d5f585b41b08257ef8e90b85cdd"
      }
     },
     "metadata": {},
     "output_type": "display_data"
    }
   ],
   "source": [
    "def pltcir(i,r):\n",
    "        c1 = circle( (i*cos(0*2*pi/14), i*sin(0*2*pi/14) ), r, hue=sin(0))\n",
    "        c2 = circle( (i*cos(1*2*pi/14), i*sin(1*2*pi/14) ), r, hue=sin(1))\n",
    "        c3 = circle( (i*cos(2*2*pi/14), i*sin(2*2*pi/14) ), r, hue=sin(2))\n",
    "        c4 = circle( (i*cos(3*2*pi/14), i*sin(3*2*pi/14) ), r, hue=sin(3))\n",
    "        c5 = circle( (i*cos(4*2*pi/14), i*sin(4*2*pi/14) ), r, hue=sin(4))\n",
    "        c6 = circle( (i*cos(5*2*pi/14), i*sin(5*2*pi/14) ), r, hue=sin(5))\n",
    "        c7 = circle( (i*cos(6*2*pi/14), i*sin(6*2*pi/14) ), r, hue=sin(6))\n",
    "        c8 = circle( (i*cos(7*2*pi/14), i*sin(7*2*pi/14) ), r, hue=sin(7))\n",
    "        c9 = circle( (i*cos(8*2*pi/14), i*sin(8*2*pi/14) ), r, hue=sin(8))\n",
    "        c10 = circle( (i*cos(9*2*pi/14), i*sin(9*2*pi/14) ), r, hue=sin(9))\n",
    "        c11 = circle( (i*cos(10*2*pi/14), i*sin(10*2*pi/14) ), r, hue=sin(10))\n",
    "        c12 = circle( (i*cos(11*2*pi/14), i*sin(11*2*pi/14) ), r, hue=sin(11))\n",
    "        c13 = circle( (i*cos(12*2*pi/14), i*sin(12*2*pi/14) ), r, hue=sin(12))\n",
    "        c14 = circle( (i*cos(13*2*pi/14), i*sin(13*2*pi/14) ), r, hue=sin(13))\n",
    "        c15 = circle( (i*cos(14*2*pi/14), i*sin(14*2*pi/14) ), r, hue=sin(14))\n",
    "        (c1+c2+c3+c4+c5+c6+c6+c7+c8+c9+c10+c11+c12+c13+c14+c15).show()\n",
    "from sage.repl.ipython_kernel.interact import sage_interactive\n",
    "sage_interactive(pltcir, i=(1, 3), r=(1, 3))\n",
    "    "
   ]
  },
  {
   "cell_type": "code",
   "execution_count": null,
   "metadata": {},
   "outputs": [],
   "source": []
  }
 ],
 "metadata": {
  "kernelspec": {
   "display_name": "SageMath 9.0",
   "language": "sage",
   "name": "sagemath"
  },
  "language_info": {
   "codemirror_mode": {
    "name": "ipython",
    "version": 3
   },
   "file_extension": ".py",
   "mimetype": "text/x-python",
   "name": "python",
   "nbconvert_exporter": "python",
   "pygments_lexer": "ipython3",
   "version": "3.8.10"
  }
 },
 "nbformat": 4,
 "nbformat_minor": 4
}
