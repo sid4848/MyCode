{
 "cells": [
  {
   "cell_type": "code",
   "execution_count": 1,
   "metadata": {},
   "outputs": [],
   "source": [
    "import pandas as pd"
   ]
  },
  {
   "cell_type": "code",
   "execution_count": 2,
   "metadata": {},
   "outputs": [],
   "source": [
    "with open(\"text3.txt\", \"r\") as f:\n",
    "    lines=f.readline()"
   ]
  },
  {
   "cell_type": "code",
   "execution_count": 3,
   "metadata": {},
   "outputs": [
    {
     "data": {
      "text/plain": [
       "'Monday\\n'"
      ]
     },
     "execution_count": 3,
     "metadata": {},
     "output_type": "execute_result"
    }
   ],
   "source": [
    "lines"
   ]
  },
  {
   "cell_type": "code",
   "execution_count": 4,
   "metadata": {},
   "outputs": [],
   "source": [
    "f.readline?"
   ]
  },
  {
   "cell_type": "code",
   "execution_count": 5,
   "metadata": {},
   "outputs": [
    {
     "name": "stdout",
     "output_type": "stream",
     "text": [
      "Monday\n",
      "Tuesday\n",
      "Wednesday\n",
      "Thursday\n",
      "Friday\n",
      "ME1101\n",
      "MM2090\n",
      "HSE\n",
      "CY1101\n",
      "MA1101\n",
      "PH101\n",
      "8:00-8:59\n",
      "9:00-9:59\n",
      "10:00-10:59\n",
      "11:00-11:59\n",
      "12:00-12:59\n",
      "13:00-13:59\n",
      "14:00-14:59\n",
      "15:00-15:59\n",
      "16:00-16:59\n",
      "17:00-17:59\n",
      "\n"
     ]
    }
   ],
   "source": [
    "myfile = open(\"text3.txt\", \"r\")\n",
    "contents = myfile.read()\n",
    "myfile.close()\n",
    "print(contents)"
   ]
  },
  {
   "cell_type": "code",
   "execution_count": 6,
   "metadata": {},
   "outputs": [
    {
     "data": {
      "text/plain": [
       "['Monday',\n",
       " 'Tuesday',\n",
       " 'Wednesday',\n",
       " 'Thursday',\n",
       " 'Friday',\n",
       " 'ME1101',\n",
       " 'MM2090',\n",
       " 'HSE',\n",
       " 'CY1101',\n",
       " 'MA1101',\n",
       " 'PH101',\n",
       " '8:00-8:59',\n",
       " '9:00-9:59',\n",
       " '10:00-10:59',\n",
       " '11:00-11:59',\n",
       " '12:00-12:59',\n",
       " '13:00-13:59',\n",
       " '14:00-14:59',\n",
       " '15:00-15:59',\n",
       " '16:00-16:59',\n",
       " '17:00-17:59']"
      ]
     },
     "execution_count": 6,
     "metadata": {},
     "output_type": "execute_result"
    }
   ],
   "source": [
    "Lines = contents.splitlines()\n",
    "Lines"
   ]
  },
  {
   "cell_type": "code",
   "execution_count": 7,
   "metadata": {},
   "outputs": [],
   "source": [
    "a=Lines[0]\n",
    "b=Lines[1]\n",
    "c=Lines[2]\n",
    "d=Lines[3]\n",
    "e=Lines[4]\n",
    "f=Lines[5]\n",
    "g=Lines[6]\n",
    "h=Lines[7]\n",
    "i=Lines[8]\n",
    "j=Lines[9]\n",
    "k=Lines[10]\n",
    "l=Lines[11]\n",
    "m=Lines[12]\n",
    "n=Lines[13]\n",
    "o=Lines[14]\n",
    "p=Lines[15]\n",
    "r=Lines[16]\n",
    "s=Lines[17]\n",
    "t=Lines[18]\n",
    "u=Lines[19]\n",
    "v=Lines[20]"
   ]
  },
  {
   "cell_type": "code",
   "execution_count": 8,
   "metadata": {},
   "outputs": [
    {
     "name": "stdout",
     "output_type": "stream",
     "text": [
      "        Days 8:00-8:59 9:00-9:59 10:00-10:59 11:00-11:59 12:00-12:59  \\\n",
      "0     Monday              ME1101                              CY1101   \n",
      "1    Tuesday                                      MM2090               \n",
      "2  Wednesday                          CY1101                           \n",
      "3   Thursday    MM2090    CY1101                     HSE               \n",
      "4     Friday    ME1101                   HSE                  MM2090   \n",
      "\n",
      "  13:00-13:59 14:00-14:59 15:00-15:59 16:00-16:59 17:00-17:59  \n",
      "0                                                              \n",
      "1                                             HSE      ME1101  \n",
      "2                     HSE                                      \n",
      "3      ME1101                                                  \n",
      "4                  MA1101       PH101                  CY1101  \n"
     ]
    }
   ],
   "source": [
    "data = {\n",
    "    \"Days\": [a, b, c, d, e],\n",
    "    l: [\"\", \"\", \"\", g, f],\n",
    "    m: [f, \"\", \"\", i, \"\"],\n",
    "    n: [\"\", \"\", i, \"\", h],\n",
    "    o: [\"\", g, \"\", h, \"\" ],\n",
    "    p: [i, \"\", \"\", \"\", g],\n",
    "    r: [\"\", \"\", \"\", f, \"\"],\n",
    "    s: [\"\", \"\", h, \"\", j],\n",
    "    t: [\"\", \"\", \"\", \"\", k],\n",
    "    u: [\"\", h, \"\", \"\", \"\"],\n",
    "    v: [\"\", f, \"\", \"\", i]\n",
    "}\n",
    "\n",
    "df = pd.DataFrame(data, index= [\"0\", \"1\", \"2\", \"3\", \"4\"])\n",
    "print(df)"
   ]
  },
  {
   "cell_type": "code",
   "execution_count": 9,
   "metadata": {},
   "outputs": [],
   "source": [
    "grouped = df.groupby(df.Days)\n",
    "Monday  = grouped.get_group(\"Monday\")\n"
   ]
  },
  {
   "cell_type": "code",
   "execution_count": 10,
   "metadata": {},
   "outputs": [],
   "source": [
    "grouped = df.groupby(df.Days)\n",
    "Tuesday = grouped.get_group(\"Tuesday\")\n"
   ]
  },
  {
   "cell_type": "code",
   "execution_count": 11,
   "metadata": {},
   "outputs": [],
   "source": [
    "grouped = df.groupby(df.Days)\n",
    "Wednesday  = grouped.get_group(\"Wednesday\")\n"
   ]
  },
  {
   "cell_type": "code",
   "execution_count": 12,
   "metadata": {},
   "outputs": [],
   "source": [
    "grouped = df.groupby(df.Days)\n",
    "Thursday  = grouped.get_group(\"Thursday\")\n"
   ]
  },
  {
   "cell_type": "code",
   "execution_count": 13,
   "metadata": {},
   "outputs": [],
   "source": [
    "grouped = df.groupby(df.Days)\n",
    "Friday  = grouped.get_group(\"Friday\")\n"
   ]
  },
  {
   "cell_type": "code",
   "execution_count": 14,
   "metadata": {},
   "outputs": [],
   "source": [
    "df = pd.concat([Monday, Tuesday, Wednesday, Thursday, Friday])"
   ]
  },
  {
   "cell_type": "code",
   "execution_count": 15,
   "metadata": {},
   "outputs": [
    {
     "data": {
      "text/html": [
       "<div>\n",
       "<style scoped>\n",
       "    .dataframe tbody tr th:only-of-type {\n",
       "        vertical-align: middle;\n",
       "    }\n",
       "\n",
       "    .dataframe tbody tr th {\n",
       "        vertical-align: top;\n",
       "    }\n",
       "\n",
       "    .dataframe thead th {\n",
       "        text-align: right;\n",
       "    }\n",
       "</style>\n",
       "<table border=\"1\" class=\"dataframe\">\n",
       "  <thead>\n",
       "    <tr style=\"text-align: right;\">\n",
       "      <th></th>\n",
       "      <th>Days</th>\n",
       "      <th>8:00-8:59</th>\n",
       "      <th>9:00-9:59</th>\n",
       "      <th>10:00-10:59</th>\n",
       "      <th>11:00-11:59</th>\n",
       "      <th>12:00-12:59</th>\n",
       "      <th>13:00-13:59</th>\n",
       "      <th>14:00-14:59</th>\n",
       "      <th>15:00-15:59</th>\n",
       "      <th>16:00-16:59</th>\n",
       "      <th>17:00-17:59</th>\n",
       "    </tr>\n",
       "  </thead>\n",
       "  <tbody>\n",
       "    <tr>\n",
       "      <th>0</th>\n",
       "      <td>Monday</td>\n",
       "      <td></td>\n",
       "      <td>ME1101</td>\n",
       "      <td></td>\n",
       "      <td></td>\n",
       "      <td>CY1101</td>\n",
       "      <td></td>\n",
       "      <td></td>\n",
       "      <td></td>\n",
       "      <td></td>\n",
       "      <td></td>\n",
       "    </tr>\n",
       "    <tr>\n",
       "      <th>1</th>\n",
       "      <td>Tuesday</td>\n",
       "      <td></td>\n",
       "      <td></td>\n",
       "      <td></td>\n",
       "      <td>MM2090</td>\n",
       "      <td></td>\n",
       "      <td></td>\n",
       "      <td></td>\n",
       "      <td></td>\n",
       "      <td>HSE</td>\n",
       "      <td>ME1101</td>\n",
       "    </tr>\n",
       "    <tr>\n",
       "      <th>2</th>\n",
       "      <td>Wednesday</td>\n",
       "      <td></td>\n",
       "      <td></td>\n",
       "      <td>CY1101</td>\n",
       "      <td></td>\n",
       "      <td></td>\n",
       "      <td></td>\n",
       "      <td>HSE</td>\n",
       "      <td></td>\n",
       "      <td></td>\n",
       "      <td></td>\n",
       "    </tr>\n",
       "    <tr>\n",
       "      <th>3</th>\n",
       "      <td>Thursday</td>\n",
       "      <td>MM2090</td>\n",
       "      <td>CY1101</td>\n",
       "      <td></td>\n",
       "      <td>HSE</td>\n",
       "      <td></td>\n",
       "      <td>ME1101</td>\n",
       "      <td></td>\n",
       "      <td></td>\n",
       "      <td></td>\n",
       "      <td></td>\n",
       "    </tr>\n",
       "    <tr>\n",
       "      <th>4</th>\n",
       "      <td>Friday</td>\n",
       "      <td>ME1101</td>\n",
       "      <td></td>\n",
       "      <td>HSE</td>\n",
       "      <td></td>\n",
       "      <td>MM2090</td>\n",
       "      <td></td>\n",
       "      <td>MA1101</td>\n",
       "      <td>PH101</td>\n",
       "      <td></td>\n",
       "      <td>CY1101</td>\n",
       "    </tr>\n",
       "  </tbody>\n",
       "</table>\n",
       "</div>"
      ],
      "text/plain": [
       "        Days 8:00-8:59 9:00-9:59 10:00-10:59 11:00-11:59 12:00-12:59  \\\n",
       "0     Monday              ME1101                              CY1101   \n",
       "1    Tuesday                                      MM2090               \n",
       "2  Wednesday                          CY1101                           \n",
       "3   Thursday    MM2090    CY1101                     HSE               \n",
       "4     Friday    ME1101                   HSE                  MM2090   \n",
       "\n",
       "  13:00-13:59 14:00-14:59 15:00-15:59 16:00-16:59 17:00-17:59  \n",
       "0                                                              \n",
       "1                                             HSE      ME1101  \n",
       "2                     HSE                                      \n",
       "3      ME1101                                                  \n",
       "4                  MA1101       PH101                  CY1101  "
      ]
     },
     "execution_count": 15,
     "metadata": {},
     "output_type": "execute_result"
    }
   ],
   "source": [
    "df"
   ]
  },
  {
   "cell_type": "code",
   "execution_count": null,
   "metadata": {},
   "outputs": [],
   "source": []
  }
 ],
 "metadata": {
  "kernelspec": {
   "display_name": "Python 3",
   "language": "python",
   "name": "python3"
  },
  "language_info": {
   "codemirror_mode": {
    "name": "ipython",
    "version": 3
   },
   "file_extension": ".py",
   "mimetype": "text/x-python",
   "name": "python",
   "nbconvert_exporter": "python",
   "pygments_lexer": "ipython3",
   "version": "3.8.10"
  }
 },
 "nbformat": 4,
 "nbformat_minor": 4
}
